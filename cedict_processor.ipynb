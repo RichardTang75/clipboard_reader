{
 "cells": [
  {
   "cell_type": "code",
   "execution_count": 39,
   "metadata": {},
   "outputs": [],
   "source": [
    "import pprint\n",
    "import pandas\n",
    "import sqlite3\n",
    "processed_cedict = []\n",
    "with open('cedict_1_0_ts_utf-8_mdbg.txt', 'r', encoding='utf-8') as f:\n",
    "    for line in f:\n",
    "        if line.startswith('#'):\n",
    "            continue\n",
    "        line = line.strip()\n",
    "        if not line:\n",
    "            continue\n",
    "        # space, space, bracket, slash\n",
    "        pinyin = line.split('[', 1)[1].split(']', 1)[0]\n",
    "        assert all(c in '0123456789abcdefghijklmnopqrstuvwxyzABCDEFGHIJKLMNOPQRSTUVWXYZüÜ:,· ' for c in pinyin)\n",
    "        english = line.split('/', 1)[1]\n",
    "        trad, simp = line.split(' ', 2)[:2]\n",
    "        pinyin = pinyin.replace('u:', 'ü')\n",
    "        pinyin = pinyin.replace('U:', 'Ü')\n",
    "        english = english.strip('/')\n",
    "        # english = english.replace('/', ' * ')\n",
    "        processed_cedict.append((trad, simp, pinyin, english))\n",
    "# pprint.pprint(processed_cedict)\n",
    "df = pandas.DataFrame(processed_cedict, columns=['Traditional', 'Simplified', 'Pinyin', 'English'])"
   ]
  },
  {
   "cell_type": "code",
   "execution_count": 6,
   "metadata": {},
   "outputs": [],
   "source": [
    "def is_chinese(word):\n",
    "    return all(u'\\u4e00' <= char <= u'\\u9fff' for char in word)\n",
    "\n",
    "def is_english(word):\n",
    "    return all(u'\\u0041' <= char <= u'\\u005a' or u'\\u0061' <= char <= u'\\u007a' for char in word)\n",
    "\n",
    "def has_punctuation(word):\n",
    "    return any(char in '.,?!:;-/' for char in word)\n",
    "\n",
    "def any_chinese(word):\n",
    "    return any(u'\\u4e00' <= char <= u'\\u9fff' for char in word)\n",
    "\n",
    "non_chinese_trad = df[~df['Traditional'].apply(is_chinese)]\n",
    "non_chinese_simp = df[~df['Simplified'].apply(is_chinese)]\n",
    "non_english = df[~df['English'].apply(is_english)]\n",
    "pinyin_chinese = df[df['Pinyin'].apply(any_chinese)]\n",
    "\n",
    "only_english_punctuation = df[~df['Traditional'].apply(has_punctuation) & ~df['Simplified'].apply(has_punctuation) & ~df['Pinyin'].apply(has_punctuation)]"
   ]
  },
  {
   "cell_type": "code",
   "execution_count": 7,
   "metadata": {},
   "outputs": [
    {
     "name": "stdout",
     "output_type": "stream",
     "text": [
      "Total: 121606\n",
      "Non-Chinese Traditional: 1068\n",
      "Non-Chinese Simplified: 1271\n",
      "Non-English: 111848\n",
      "Pinyin Chinese: 0\n",
      "Only English Punctuation: 121143\n"
     ]
    }
   ],
   "source": [
    "print('Total:', len(df))\n",
    "print('Non-Chinese Traditional:', len(non_chinese_trad))\n",
    "print('Non-Chinese Simplified:', len(non_chinese_simp))\n",
    "print('Non-English:', len(non_english))\n",
    "print('Pinyin Chinese:', len(pinyin_chinese))\n",
    "print('Only English Punctuation:', len(only_english_punctuation))"
   ]
  },
  {
   "cell_type": "code",
   "execution_count": 8,
   "metadata": {},
   "outputs": [
    {
     "name": "stdout",
     "output_type": "stream",
     "text": [
      "       Traditional Simplified  \\\n",
      "0                %          %   \n",
      "1        2019冠狀病毒病  2019冠状病毒病   \n",
      "2          21三體綜合症    21三体综合症   \n",
      "3               3C         3C   \n",
      "4               3P         3P   \n",
      "...            ...        ...   \n",
      "121601           𨭆          𬭶   \n",
      "121602           𨭎          𬭳   \n",
      "121603           𩧢          𱅒   \n",
      "121604           𰻞          𰻝   \n",
      "121605         𰻞𰻞麵        𰻝𰻝面   \n",
      "\n",
      "                                                  Pinyin  \\\n",
      "0                                                    pa1   \n",
      "1       er4 ling2 yi1 jiu3 guan1 zhuang4 bing4 du2 bing4   \n",
      "2                 er4 shi2 yi1 san1 ti3 zong1 he2 zheng4   \n",
      "3                                                 san1 C   \n",
      "4                                                 san1 P   \n",
      "...                                                  ...   \n",
      "121601                                              hei1   \n",
      "121602                                               xi3   \n",
      "121603                                            cheng3   \n",
      "121604                                            biang2   \n",
      "121605                               biang2 biang2 mian4   \n",
      "\n",
      "                                                  English  \n",
      "0                                            percent (Tw)  \n",
      "1       COVID-19, the coronavirus disease identified i...  \n",
      "2                                 trisomy/Down's syndrome  \n",
      "3       abbr. for computers, communications, and consu...  \n",
      "4                                       (slang) threesome  \n",
      "...                                                   ...  \n",
      "121601                                hassium (chemistry)  \n",
      "121602                             seaborgium (chemistry)  \n",
      "121603                             variant of 騁|骋[cheng3]  \n",
      "121604                   see 𰻞𰻞麵|𰻝𰻝面[biang2 biang2 mian4]  \n",
      "121605     broad, belt-shaped noodles, popular in Shaanxi  \n",
      "\n",
      "[1068 rows x 4 columns]\n"
     ]
    }
   ],
   "source": [
    "print(non_chinese_trad)\n",
    "non_chinese_trad.to_csv('non_chinese_trad.csv', index=False)"
   ]
  },
  {
   "cell_type": "code",
   "execution_count": 40,
   "metadata": {},
   "outputs": [],
   "source": [
    "df.to_json('cedict.json', orient='records', force_ascii=False)"
   ]
  },
  {
   "cell_type": "code",
   "execution_count": 41,
   "metadata": {},
   "outputs": [],
   "source": [
    "# create sqlite database\n",
    "conn = sqlite3.connect('cedict.db')\n",
    "c = conn.cursor()\n"
   ]
  },
  {
   "cell_type": "code",
   "execution_count": 44,
   "metadata": {},
   "outputs": [
    {
     "data": {
      "text/plain": [
       "121606"
      ]
     },
     "execution_count": 44,
     "metadata": {},
     "output_type": "execute_result"
    }
   ],
   "source": [
    "c.execute('CREATE TABLE cedict (ID INTEGER PRIMARY KEY AUTOINCREMENT, Traditional TEXT, Simplified TEXT, Pinyin TEXT, English TEXT)')\n",
    "conn.commit()\n",
    "df.to_sql('cedict', conn, if_exists='append', index=False)\n"
   ]
  },
  {
   "cell_type": "code",
   "execution_count": 45,
   "metadata": {},
   "outputs": [
    {
     "ename": "OperationalError",
     "evalue": "table cedict_lookup already exists",
     "output_type": "error",
     "traceback": [
      "\u001b[1;31m---------------------------------------------------------------------------\u001b[0m",
      "\u001b[1;31mOperationalError\u001b[0m                          Traceback (most recent call last)",
      "Cell \u001b[1;32mIn[45], line 5\u001b[0m\n\u001b[0;32m      2\u001b[0m c \u001b[39m=\u001b[39m conn\u001b[39m.\u001b[39mcursor()\n\u001b[0;32m      3\u001b[0m \u001b[39m# new table, primary key is the lookup foreign key is the id\u001b[39;00m\n\u001b[0;32m      4\u001b[0m \u001b[39m# c.execute('CREATE TABLE cedict_lookup (id INTEGER PRIMARY KEY AUTOINCREMENT, Lookup TEXT, cedict_id INTEGER, FOREIGN KEY(cedict_id) REFERENCES cedict(ID))')\u001b[39;00m\n\u001b[1;32m----> 5\u001b[0m c\u001b[39m.\u001b[39;49mexecute(\u001b[39m'\u001b[39;49m\u001b[39mCREATE TABLE cedict_lookup (id INTEGER PRIMARY KEY AUTOINCREMENT, Lookup TEXT UNIQUE, cedict_id INTEGER, FOREIGN KEY(cedict_id) REFERENCES cedict(ID))\u001b[39;49m\u001b[39m'\u001b[39;49m)\n\u001b[0;32m      6\u001b[0m c\u001b[39m.\u001b[39mexecute(\u001b[39m'\u001b[39m\u001b[39mCREATE INDEX lookup_index ON cedict_lookup(Lookup)\u001b[39m\u001b[39m'\u001b[39m)\n\u001b[0;32m      7\u001b[0m conn\u001b[39m.\u001b[39mcommit()\n",
      "\u001b[1;31mOperationalError\u001b[0m: table cedict_lookup already exists"
     ]
    }
   ],
   "source": [
    "conn = sqlite3.connect('cedict.db')\n",
    "c = conn.cursor()\n",
    "# new table, primary key is the lookup foreign key is the id\n",
    "# c.execute('CREATE TABLE cedict_lookup (id INTEGER PRIMARY KEY AUTOINCREMENT, Lookup TEXT, cedict_id INTEGER, FOREIGN KEY(cedict_id) REFERENCES cedict(ID))')\n",
    "c.execute('CREATE TABLE cedict_lookup (id INTEGER PRIMARY KEY AUTOINCREMENT, Lookup TEXT UNIQUE, cedict_id INTEGER, FOREIGN KEY(cedict_id) REFERENCES cedict(ID))')\n",
    "c.execute('CREATE INDEX lookup_index ON cedict_lookup(Lookup)')\n",
    "conn.commit()\n"
   ]
  },
  {
   "cell_type": "code",
   "execution_count": 47,
   "metadata": {},
   "outputs": [],
   "source": [
    "# insert all the lookups\n",
    "for row in c.execute('SELECT ID, Traditional, Simplified FROM cedict').fetchall():\n",
    "    c.execute('INSERT INTO cedict_lookup (lookup, cedict_id) VALUES (?, ?) ON CONFLICT DO NOTHING', (row[1], row[0]))\n",
    "    c.execute('INSERT INTO cedict_lookup (lookup, cedict_id) VALUES (?, ?) ON CONFLICT DO NOTHING', (row[2], row[0]))\n",
    "conn.commit()"
   ]
  },
  {
   "cell_type": "code",
   "execution_count": 2,
   "metadata": {},
   "outputs": [
    {
     "ename": "NameError",
     "evalue": "name 'pandas' is not defined",
     "output_type": "error",
     "traceback": [
      "\u001b[1;31m---------------------------------------------------------------------------\u001b[0m",
      "\u001b[1;31mNameError\u001b[0m                                 Traceback (most recent call last)",
      "Cell \u001b[1;32mIn [2], line 1\u001b[0m\n\u001b[1;32m----> 1\u001b[0m SQL_query \u001b[38;5;241m=\u001b[39m \u001b[43mpandas\u001b[49m\u001b[38;5;241m.\u001b[39mread_sql_query(\u001b[38;5;124m'\u001b[39m\u001b[38;5;124mSELECT * FROM cedict WHERE Simplified = \u001b[39m\u001b[38;5;124m\"\u001b[39m\u001b[38;5;124m的\u001b[39m\u001b[38;5;124m\"\u001b[39m\u001b[38;5;124m'\u001b[39m, conn)\n",
      "\u001b[1;31mNameError\u001b[0m: name 'pandas' is not defined"
     ]
    }
   ],
   "source": [
    "SQL_query = pandas.read_sql_query('SELECT * FROM cedict WHERE Simplified = \"的\"', conn)"
   ]
  },
  {
   "cell_type": "code",
   "execution_count": null,
   "metadata": {},
   "outputs": [],
   "source": [
    "def convert_windows_path_to_unix(path):\n",
    "    return path.replace('\\\\', '/')\n",
    "\n",
    "path = r\"\"\"\n",
    "\n",
    "\"\"\"\n",
    "path = convert_windows_path_to_unix(path)\n",
    "print(path)\n"
   ]
  },
  {
   "cell_type": "code",
   "execution_count": 2,
   "metadata": {},
   "outputs": [
    {
     "name": "stdout",
     "output_type": "stream",
     "text": [
      "[(75089, '的', '的', 'de5', \"of; ~'s (possessive particle)/(used after an attribute)/(used to form a nominal expression)/(used at the end of a declarative sentence for emphasis)/also pr. [di4] or [di5] in poetry and songs\"), (75090, '的', '的', 'di1', 'see 的士[di1 shi4]'), (75091, '的', '的', 'di2', 'really and truly'), (75092, '的', '的', 'di4', \"(bound form) bull's-eye; target\")]\n"
     ]
    }
   ],
   "source": [
    "import sqlite3\n",
    "def check_db(path):\n",
    "    conn = sqlite3.connect(path)\n",
    "    c = conn.cursor()\n",
    "    c.execute('SELECT * FROM cedict WHERE Simplified = \"的\"')\n",
    "    print(c.fetchall())\n",
    "\n",
    "check_db('cedict.db')"
   ]
  }
 ],
 "metadata": {
  "kernelspec": {
   "display_name": "Python 3",
   "language": "python",
   "name": "python3"
  },
  "language_info": {
   "codemirror_mode": {
    "name": "ipython",
    "version": 3
   },
   "file_extension": ".py",
   "mimetype": "text/x-python",
   "name": "python",
   "nbconvert_exporter": "python",
   "pygments_lexer": "ipython3",
   "version": "3.11.2"
  },
  "orig_nbformat": 4,
  "vscode": {
   "interpreter": {
    "hash": "c261aea317cc0286b3b3261fbba9abdec21eaa57589985bb7a274bf54d6cc0a7"
   }
  }
 },
 "nbformat": 4,
 "nbformat_minor": 2
}
